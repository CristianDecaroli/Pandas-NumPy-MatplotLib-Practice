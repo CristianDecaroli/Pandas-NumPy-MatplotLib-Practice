{
 "cells": [
  {
   "cell_type": "markdown",
   "metadata": {},
   "source": [
    "### Dimensionalidades - de Escalares a Tensores"
   ]
  },
  {
   "cell_type": "markdown",
   "metadata": {},
   "source": [
    "Permiten estructuran datos de manera que se puedan realizar calculos complejos y obtener insights valiosos sin perder tiempo.\n",
    "\n",
    "- Escalar -> Dimensión 0\n",
    "- Vector -> Dimensión 1\n",
    "- Tensores -> Varias dimensiones"
   ]
  },
  {
   "cell_type": "code",
   "execution_count": 4,
   "metadata": {},
   "outputs": [
    {
     "name": "stdout",
     "output_type": "stream",
     "text": [
      "<class 'numpy.ndarray'>\n",
      "42\n"
     ]
    }
   ],
   "source": [
    "import numpy as np\n",
    "escalar = np.array(42) # Se crea un numpy array de dimensión 0 -> escalar.\n",
    "print(type(escalar)) # Se imprime el tipo de dato: numpy.ndarray\n",
    "print(escalar) # Imprime el único valor del escalar: 42"
   ]
  },
  {
   "cell_type": "code",
   "execution_count": 5,
   "metadata": {},
   "outputs": [
    {
     "name": "stdout",
     "output_type": "stream",
     "text": [
      "[30 29 35 31 33 36 42]\n"
     ]
    }
   ],
   "source": [
    "vector = np.array([30,29,35,31,33,36,42]) # Representa a la dimenensión 1 -> vector\n",
    "print(vector)"
   ]
  },
  {
   "cell_type": "markdown",
   "metadata": {},
   "source": [
    "Al trabajar con DOS VECTORES O MÁS, comenzamos a hablar de MATRICES."
   ]
  },
  {
   "cell_type": "code",
   "execution_count": 6,
   "metadata": {},
   "outputs": [
    {
     "name": "stdout",
     "output_type": "stream",
     "text": [
      "[[1 2 3]\n",
      " [4 5 6]\n",
      " [7 8 9]]\n"
     ]
    }
   ],
   "source": [
    "matrix = np.array([[1,2,3],[4,5,6],[7,8,9]]) #Matriz de dimensión 3x3\n",
    "print(matrix)\n",
    "# Si no aplico np.array() el array se imprime en una sola línea y pierde el formato \"matriz\" que buscamos.\n",
    "# Numpy permite trabajar en dimensiones (filas y columnas = Matriz/Tensores(multidimensión))"
   ]
  },
  {
   "cell_type": "code",
   "execution_count": 7,
   "metadata": {},
   "outputs": [
    {
     "name": "stdout",
     "output_type": "stream",
     "text": [
      "[[[1 2]\n",
      "  [3 4]\n",
      "  [5 6]\n",
      "  [7 8]]]\n"
     ]
    }
   ],
   "source": [
    "tensor = np.array([[[1,2],[3,4],[5,6],[7,8]]])\n",
    "print(tensor)"
   ]
  },
  {
   "cell_type": "code",
   "execution_count": 21,
   "metadata": {},
   "outputs": [
    {
     "name": "stdout",
     "output_type": "stream",
     "text": [
      "[0 1 2 3 4 5 6 7 8 9]\n"
     ]
    }
   ],
   "source": [
    "array_arange = np.arange(10) #Genera un array de 0 a N-1. Diez números.\n",
    "print(array_arange)"
   ]
  },
  {
   "cell_type": "code",
   "execution_count": 9,
   "metadata": {},
   "outputs": [
    {
     "name": "stdout",
     "output_type": "stream",
     "text": [
      "[[1. 0. 0.]\n",
      " [0. 1. 0.]\n",
      " [0. 0. 1.]]\n"
     ]
    }
   ],
   "source": [
    "eye_matrix = np.eye(3) # np.eye() genera la matriz identidad (toda la diagonal 1 el resto 0)\n",
    "print(eye_matrix)"
   ]
  },
  {
   "cell_type": "code",
   "execution_count": 10,
   "metadata": {},
   "outputs": [
    {
     "name": "stdout",
     "output_type": "stream",
     "text": [
      "[[1 0 0 0 0 0 0]\n",
      " [0 2 0 0 0 0 0]\n",
      " [0 0 3 0 0 0 0]\n",
      " [0 0 0 4 0 0 0]\n",
      " [0 0 0 0 5 0 0]\n",
      " [0 0 0 0 0 6 0]\n",
      " [0 0 0 0 0 0 7]]\n"
     ]
    }
   ],
   "source": [
    "diag = np.diag([1,2,3,4,5,6,7]) # np.diag() genera una matriz con diagonal correspondientes a los números del array\n",
    "print(diag)"
   ]
  },
  {
   "cell_type": "code",
   "execution_count": 11,
   "metadata": {},
   "outputs": [
    {
     "name": "stdout",
     "output_type": "stream",
     "text": [
      "[[0.17942745 0.91166973 0.87989538]\n",
      " [0.47497919 0.25277254 0.59334683]]\n"
     ]
    }
   ],
   "source": [
    "random = np.random.random((2,3)) # Genera una matrix 2x3 con un valor random en sus elementos\n",
    "print(random)"
   ]
  }
 ],
 "metadata": {
  "kernelspec": {
   "display_name": "base",
   "language": "python",
   "name": "python3"
  },
  "language_info": {
   "codemirror_mode": {
    "name": "ipython",
    "version": 3
   },
   "file_extension": ".py",
   "mimetype": "text/x-python",
   "name": "python",
   "nbconvert_exporter": "python",
   "pygments_lexer": "ipython3",
   "version": "3.11.7"
  }
 },
 "nbformat": 4,
 "nbformat_minor": 2
}
