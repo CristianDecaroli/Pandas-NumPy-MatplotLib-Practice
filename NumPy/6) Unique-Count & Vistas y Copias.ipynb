{
 "cells": [
  {
   "cell_type": "markdown",
   "metadata": {},
   "source": [
    "Con Numpy se pueden **buscar elementos únicos y contar su frecuencia**. Esto puede ser de ayuda para, por ejemplo, encontrar una opinión y la repetición de la misma en una cantidad de usuarios que participaron de una encuesta."
   ]
  },
  {
   "cell_type": "code",
   "execution_count": 3,
   "metadata": {},
   "outputs": [],
   "source": [
    "import numpy as np"
   ]
  },
  {
   "cell_type": "markdown",
   "metadata": {},
   "source": [
    "Mostrar los elementos únicos:"
   ]
  },
  {
   "cell_type": "code",
   "execution_count": 5,
   "metadata": {},
   "outputs": [
    {
     "name": "stdout",
     "output_type": "stream",
     "text": [
      "['bueno' 'excelente' 'malo']\n"
     ]
    }
   ],
   "source": [
    "servey_responses = np.array([\"bueno\", \"excelente\", \"malo\",\n",
    "                             \"bueno\", \"malo\", \"excelente\",\n",
    "                             \"bueno\", \"bueno\", \"malo\", \"excelente\"])\n",
    "print(np.unique(servey_responses))"
   ]
  },
  {
   "cell_type": "markdown",
   "metadata": {},
   "source": [
    "Mostrar la cantidad de elementos únicos:"
   ]
  },
  {
   "cell_type": "code",
   "execution_count": 6,
   "metadata": {},
   "outputs": [
    {
     "name": "stdout",
     "output_type": "stream",
     "text": [
      "['bueno' 'excelente' 'malo']\n",
      "[4 3 3]\n"
     ]
    }
   ],
   "source": [
    "unique_elements, count = np.unique(servey_responses, return_counts=True)\n",
    "print(unique_elements) # Primero imprimo los elementos únicos\n",
    "print(count) # Luego la cantidad de cada elemento"
   ]
  },
  {
   "cell_type": "markdown",
   "metadata": {},
   "source": [
    "En Numpy es posible trabajar con **Vistas** y **Copias**:\n",
    "\n",
    "- Una **vista** (view) en Numpy es simplemente una referencia a los mismos datos en la memoria. Cuando modificas la vista, los datos originales también cambian, ya que ambos comparten el mismo espacio de memoria. Esto es útil cuando quieres ahorrar memoria y tiempo, ya que no necesitas duplicar el array completo, solo trabajar con una referencia."
   ]
  },
  {
   "cell_type": "code",
   "execution_count": 12,
   "metadata": {},
   "outputs": [
    {
     "name": "stdout",
     "output_type": "stream",
     "text": [
      "[10  2  3  4]\n"
     ]
    }
   ],
   "source": [
    "import numpy as np\n",
    "a = np.array([1, 2, 3, 4])\n",
    "b = a.view()\n",
    "b[0] = 10  # Esto también modifica 'a'\n",
    "print(a)  # Salida: [10, 2, 3, 4]"
   ]
  },
  {
   "cell_type": "markdown",
   "metadata": {},
   "source": [
    "- Una **copia** (copy) crea un nuevo array con los mismos valores que el original, pero en un espacio de memoria diferente. Si modificas la copia, el array original no se verá afectado. Esto es útil cuando deseas manipular datos sin alterar el array original."
   ]
  },
  {
   "cell_type": "code",
   "execution_count": 13,
   "metadata": {},
   "outputs": [
    {
     "name": "stdout",
     "output_type": "stream",
     "text": [
      "[10  2  3  4]\n",
      "[20  2  3  4]\n"
     ]
    }
   ],
   "source": [
    "c = a.copy()\n",
    "c[0] = 20  # Esto no afecta 'a'\n",
    "print(a)  # Salida: [10, 2, 3, 4]\n",
    "print(c)  # Salida: [20, 2, 3, 4]"
   ]
  }
 ],
 "metadata": {
  "kernelspec": {
   "display_name": "base",
   "language": "python",
   "name": "python3"
  },
  "language_info": {
   "codemirror_mode": {
    "name": "ipython",
    "version": 3
   },
   "file_extension": ".py",
   "mimetype": "text/x-python",
   "name": "python",
   "nbconvert_exporter": "python",
   "pygments_lexer": "ipython3",
   "version": "3.11.7"
  }
 },
 "nbformat": 4,
 "nbformat_minor": 2
}
