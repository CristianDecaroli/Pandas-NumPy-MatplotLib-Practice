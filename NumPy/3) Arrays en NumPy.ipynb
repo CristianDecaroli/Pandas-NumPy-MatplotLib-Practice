{
 "cells": [
  {
   "cell_type": "markdown",
   "metadata": {},
   "source": [
    "### Arrays"
   ]
  },
  {
   "cell_type": "markdown",
   "metadata": {},
   "source": [
    "\n",
    "\n",
    "**NumPy** proporciona diversas maneras de crear arrays, facilitando la realización de cálculos numéricos y análisis de datos de manera eficiente en Python.\n",
    "\n",
    "***Diferencias de Listas y Arrays:***\n",
    "\n",
    "**Rendimiento:** NumPy es mucho más rápido y eficiente para operaciones matemáticas y científicas.\n",
    "\n",
    "**Tipos de Datos:** NumPy requiere homogeneidad de tipos, mientras que las listas de Python pueden contener múltiples tipos.\n",
    "\n",
    "**Funcionalidad:** NumPy proporciona una rica funcionalidad específica para cálculos numéricos.\n",
    "\n",
    "**Slicing e Indexación:** NumPy ofrece herramientas avanzadas para manipular subconjuntos de datos.\n",
    "\n",
    "NumPy es la mejor opción. Para usos más generales y cuando se necesita mayor flexibilidad en los tipos de datos, las listas de Python son más adecuadas.\n"
   ]
  },
  {
   "cell_type": "code",
   "execution_count": 32,
   "metadata": {},
   "outputs": [],
   "source": [
    "import numpy as np"
   ]
  },
  {
   "cell_type": "markdown",
   "metadata": {},
   "source": [
    "\n",
    "NumPy proporciona diversas maneras de crear arrays, facilitando la realización de cálculos numéricos y análisis de datos de manera eficiente en Python."
   ]
  },
  {
   "cell_type": "markdown",
   "metadata": {},
   "source": [
    "1. **Creación de Arrays a partir de Listas**\n",
    "\n",
    "Podemos crear un array a partir de una lista o una lista de listas:"
   ]
  },
  {
   "cell_type": "code",
   "execution_count": 33,
   "metadata": {},
   "outputs": [],
   "source": [
    "# Array unidimensional\n",
    "array_1d = np.array([1, 2, 3, 4])\n",
    "\n",
    "# Array bidimensional\n",
    "array_2d = np.array([[1, 2, 3], [4, 5, 6]])"
   ]
  },
  {
   "cell_type": "markdown",
   "metadata": {},
   "source": [
    "2. **Creación de Arrays con Funciones Predefinidas**\n",
    "\n",
    "NumPy proporciona funciones predefinidas para crear arrays de manera más rápida y conveniente:"
   ]
  },
  {
   "cell_type": "code",
   "execution_count": 34,
   "metadata": {},
   "outputs": [
    {
     "name": "stdout",
     "output_type": "stream",
     "text": [
      "[[0. 0. 0.]\n",
      " [0. 0. 0.]\n",
      " [0. 0. 0.]]\n"
     ]
    }
   ],
   "source": [
    "# np.zeros(): Crea un array lleno de ceros.\n",
    "zeros_array = np.zeros((3, 3))\n",
    "print(zeros_array)"
   ]
  },
  {
   "cell_type": "code",
   "execution_count": 35,
   "metadata": {},
   "outputs": [
    {
     "name": "stdout",
     "output_type": "stream",
     "text": [
      "[[1. 1. 1. 1.]\n",
      " [1. 1. 1. 1.]]\n"
     ]
    }
   ],
   "source": [
    "# np.ones(): Crea un array lleno de unos.\n",
    "ones_array = np.ones((2, 4))\n",
    "print(ones_array)"
   ]
  },
  {
   "cell_type": "code",
   "execution_count": 36,
   "metadata": {},
   "outputs": [
    {
     "name": "stdout",
     "output_type": "stream",
     "text": [
      "[0 2 4 6 8]\n"
     ]
    }
   ],
   "source": [
    "# np.arange(): Crea un array con una secuencia de números.\n",
    "range_array = np.arange(0, 10, 2)  # [0, 2, 4, 6, 8]\n",
    "print(range_array)"
   ]
  },
  {
   "cell_type": "code",
   "execution_count": 37,
   "metadata": {},
   "outputs": [
    {
     "name": "stdout",
     "output_type": "stream",
     "text": [
      "[0.   0.25 0.5  0.75 1.  ]\n"
     ]
    }
   ],
   "source": [
    "# np.linspace(): Crea un array con números igualmente espaciados.\n",
    "linspace_array = np.linspace(0, 1, 5)  # [0., 0.25, 0.5, 0.75, 1.]\n",
    "print(linspace_array)"
   ]
  },
  {
   "cell_type": "markdown",
   "metadata": {},
   "source": [
    "3. **Especificando Tipos de Datos (Datatypes)**\n",
    "\n",
    "Al crear un array, podemos especificar el tipo de datos que contendrá utilizando el parámetro dtype. Esta especificación es crucial para la eficiencia y precisión en cálculos numéricos. Aquí se detallan algunos de los tipos de datos más comunes:\n",
    "\n",
    "- **int32**: Entero de 32 bits.\n",
    "- **float32**: Número de punto flotante de 32 bits.\n",
    "- **float64**: Número de punto flotante de 64 bits (por defecto para números flotantes en NumPy).\n",
    "- **bool**: Valores booleanos (True o False).\n",
    "- **complex64**: Número complejo de 64 bits.\n",
    "- **complex128**: Número complejo de 128 bits.\n",
    "- **str**: Cadenas de texto.\n",
    "\n",
    "Podemos especificar estos tipos de datos al crear el array utilizando el parámetro dtype:"
   ]
  },
  {
   "cell_type": "code",
   "execution_count": 38,
   "metadata": {},
   "outputs": [],
   "source": [
    "# Array de enteros\n",
    "int_array = np.array([1, 2, 3], dtype='int32')\n",
    "\n",
    "# Array de flotantes\n",
    "float_array = np.array([1.0, 2.0, 3.0], dtype='float32')\n",
    "\n",
    "# Array de booleanos\n",
    "bool_array = np.array([True, False, True], dtype='bool')\n",
    "\n",
    "# Array de números complejos\n",
    "complex_array = np.array([1+2j, 3+4j], dtype='complex64')\n",
    "\n",
    "# Array de cadenas de texto\n",
    "str_array = np.array(['a', 'b', 'c'], dtype='str')"
   ]
  },
  {
   "cell_type": "markdown",
   "metadata": {},
   "source": [
    "Algunos de estos tipos también pueden ser especificados con abreviaturas en el parámetro ***dtype***. Por ejemplo, ***'d'*** es equivalente a ***float64***, que es el tipo de datos de punto flotante de 64 bits en NumPy:"
   ]
  },
  {
   "cell_type": "code",
   "execution_count": 39,
   "metadata": {},
   "outputs": [
    {
     "name": "stdout",
     "output_type": "stream",
     "text": [
      "2\n",
      "(2, 3)\n",
      "int32\n"
     ]
    }
   ],
   "source": [
    "array = np.array([[1,2,3],[4,5,6]]) # Matriz 2x3\n",
    "print(array.ndim) # Sirve para conocer las dimensiones del array\n",
    "print(array.shape) # Sirve para conocer el ORDEN de la matriz \"NxN\"\n",
    "print(array.dtype) # Objeto de Numpy que describe el type de los elementos que tenemos dentro del array. (Ver lo siguiente)"
   ]
  },
  {
   "cell_type": "code",
   "execution_count": 40,
   "metadata": {},
   "outputs": [
    {
     "name": "stdout",
     "output_type": "stream",
     "text": [
      "3\n",
      "<class 'numpy.ndarray'>\n"
     ]
    }
   ],
   "source": [
    "z = np.array(3, dtype=np.uint8) # Se especifica el tipo de dato\n",
    "print(z)\n",
    "print(type(z))"
   ]
  },
  {
   "cell_type": "code",
   "execution_count": 41,
   "metadata": {},
   "outputs": [
    {
     "name": "stdout",
     "output_type": "stream",
     "text": [
      "[1. 2. 3.]\n"
     ]
    }
   ],
   "source": [
    "double_array = np.array([1,2,3], dtype='d') # Especifica un float64 con 'd'\n",
    "print(double_array)"
   ]
  },
  {
   "cell_type": "code",
   "execution_count": 42,
   "metadata": {},
   "outputs": [
    {
     "name": "stdout",
     "output_type": "stream",
     "text": [
      "3.0\n",
      "<class 'numpy.ndarray'>\n"
     ]
    }
   ],
   "source": [
    "z = z.astype(np.float64) # Método astype() permite cambiar el formato de una variable\n",
    "print(z)\n",
    "print(type(z))"
   ]
  },
  {
   "cell_type": "markdown",
   "metadata": {},
   "source": [
    "4. **NaN (Not a Number)**\n",
    "\n",
    "***NaN*** es un valor especial utilizado para representar datos que no son números, especialmente en el contexto de operaciones matemáticas que no tienen un resultado definido. Por ejemplo, la división de cero por cero (0/0) o la raíz cuadrada de un número negativo."
   ]
  },
  {
   "cell_type": "code",
   "execution_count": 43,
   "metadata": {},
   "outputs": [
    {
     "name": "stdout",
     "output_type": "stream",
     "text": [
      "[ 1.  2. nan  4.]\n"
     ]
    }
   ],
   "source": [
    "nan_array = np.array([1, 2, np.nan, 4])\n",
    "print(nan_array)"
   ]
  },
  {
   "cell_type": "markdown",
   "metadata": {},
   "source": [
    "----"
   ]
  },
  {
   "cell_type": "markdown",
   "metadata": {},
   "source": [
    "Operaciones matemáticas y estadísticas"
   ]
  },
  {
   "cell_type": "code",
   "execution_count": 44,
   "metadata": {},
   "outputs": [
    {
     "name": "stdout",
     "output_type": "stream",
     "text": [
      "21\n"
     ]
    }
   ],
   "source": [
    "array = np.array([[1,2,3],[4,5,6]])\n",
    "add = np.sum(array) \n",
    "print(add)"
   ]
  },
  {
   "cell_type": "code",
   "execution_count": 45,
   "metadata": {},
   "outputs": [
    {
     "name": "stdout",
     "output_type": "stream",
     "text": [
      "21\n"
     ]
    }
   ],
   "source": [
    "array = np.array([[1,2,3],[4,5,6]])\n",
    "sum = np.sum(array) # suma todos los elementos del array\n",
    "print(sum)"
   ]
  },
  {
   "cell_type": "code",
   "execution_count": 46,
   "metadata": {},
   "outputs": [
    {
     "name": "stdout",
     "output_type": "stream",
     "text": [
      "3.5\n"
     ]
    }
   ],
   "source": [
    "mean = np.mean(array) # Calcular la media\n",
    "print(mean)"
   ]
  },
  {
   "cell_type": "code",
   "execution_count": 47,
   "metadata": {},
   "outputs": [
    {
     "name": "stdout",
     "output_type": "stream",
     "text": [
      "1.707825127659933\n"
     ]
    }
   ],
   "source": [
    "std = np.std(array) # Desviación estándar\n",
    "print(std)"
   ]
  }
 ],
 "metadata": {
  "kernelspec": {
   "display_name": "base",
   "language": "python",
   "name": "python3"
  },
  "language_info": {
   "codemirror_mode": {
    "name": "ipython",
    "version": 3
   },
   "file_extension": ".py",
   "mimetype": "text/x-python",
   "name": "python",
   "nbconvert_exporter": "python",
   "pygments_lexer": "ipython3",
   "version": "3.11.7"
  }
 },
 "nbformat": 4,
 "nbformat_minor": 2
}
